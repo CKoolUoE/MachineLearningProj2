{
 "cells": [
  {
   "cell_type": "markdown",
   "metadata": {},
   "source": [
    "# Supplemental Materials\n",
    "s1873546"
   ]
  },
  {
   "cell_type": "markdown",
   "metadata": {},
   "source": [
    "## 1. Setup\n",
    "\n",
    "### 1.1 Libraries"
   ]
  },
  {
   "cell_type": "code",
   "execution_count": 38,
   "metadata": {},
   "outputs": [],
   "source": [
    "# Data libraries\n",
    "import pandas as pd\n",
    "import numpy as np\n",
    "\n",
    "# Plotting libraries\n",
    "import matplotlib.pyplot as plt\n",
    "import seaborn as sns\n",
    "\n",
    "# Plotting defaults\n",
    "plt.rcParams['figure.figsize'] = (10,6)\n",
    "plt.rcParams['figure.dpi'] = 80\n",
    "\n",
    "# sklearn\n",
    "import sklearn\n",
    "# sklearn preprocessing\n",
    "from sklearn.preprocessing import LabelEncoder, scale\n",
    "# sklearn support vector machines\n",
    "from sklearn.svm import SVC, LinearSVC\n",
    "# sklearn metrics\n",
    "from sklearn.metrics import classification_report"
   ]
  },
  {
   "cell_type": "markdown",
   "metadata": {},
   "source": [
    "### 1.2 Data"
   ]
  },
  {
   "cell_type": "code",
   "execution_count": 39,
   "metadata": {},
   "outputs": [],
   "source": [
    "wine_train = pd.read_csv(\"wine_qual_train.csv\")\n",
    "wine_test  = pd.read_csv(\"wine_qual_test.csv\")"
   ]
  },
  {
   "cell_type": "code",
   "execution_count": 60,
   "metadata": {},
   "outputs": [
    {
     "name": "stdout",
     "output_type": "stream",
     "text": [
      "The number of missing values in the data is: 0\n"
     ]
    }
   ],
   "source": [
    "print(\"The number of missing values in the data is:\", sum(wine_train.isnull().sum()))"
   ]
  },
  {
   "cell_type": "code",
   "execution_count": 61,
   "metadata": {},
   "outputs": [
    {
     "data": {
      "text/plain": [
       "(3000, 13)"
      ]
     },
     "execution_count": 61,
     "metadata": {},
     "output_type": "execute_result"
    }
   ],
   "source": [
    "wine_train.shape"
   ]
  },
  {
   "cell_type": "markdown",
   "metadata": {},
   "source": [
    "## Preprocessing"
   ]
  },
  {
   "cell_type": "code",
   "execution_count": 40,
   "metadata": {},
   "outputs": [],
   "source": [
    "def preprocessing(data, scaled=True):\n",
    "    '''\n",
    "    Does some preprocessing on the data\n",
    "    Input:\n",
    "    - pd.DataFrame on which we will perform the pre-processing\n",
    "    - A boolean 'scaled' to indicate whether we want to scale the data\n",
    "    Output:\n",
    "    - pd.DataFrame X containing the features we want to model\n",
    "    - Quality score column y\n",
    "    '''\n",
    "    \n",
    "    # Make a copy of the data to keep the original data untouched\n",
    "    X = data.copy()\n",
    "    \n",
    "    # log-transform the skewed data\n",
    "    X['log_sulphates'] = np.log(X['sulphates'])\n",
    "    X['log_density'] = np.log(X['density'])\n",
    "    X['log_residual_sugar'] = np.log(X['residual_sugar'])\n",
    "    X['log_volatile_acidity'] = np.log(X['volatile_acidity'])\n",
    "    X['log_fixed_acidity'] = np.log(X['fixed_acidity'])\n",
    "    X['log_residual_sugar'] = np.log(X['residual_sugar'])\n",
    "    X['log_chlorides'] = np.log(X['chlorides'])\n",
    "    X['log_free_sulfur_dioxide'] = np.log(X['free_sulfur_dioxide'])\n",
    "    \n",
    "    # Change white wine to 0 and red wine to 1\n",
    "    X['wine'] = X['wine'].apply(lambda x: 0 if x == \"white\" else 1)\n",
    "    \n",
    "    # discretizing the quality parameter\n",
    "    X['quality_cat'] = pd.cut(x=X['quality'], bins=[0, 4, 5, 6, 10], \n",
    "               labels=['0_Poor', '1_Average', '2_Good', '3_Excellent'])\n",
    "    \n",
    "    # set y to be the quality parameter\n",
    "    y = X['quality_cat']\n",
    "    \n",
    "    # drop the non-log transformed columns and the quality-related columns\n",
    "    X = X.drop(columns = ['sulphates', 'density', 'residual_sugar',\n",
    "                          'fixed_acidity','residual_sugar', 'chlorides',\n",
    "                          'free_sulfur_dioxide', 'quality', 'quality_cat'])\n",
    "    \n",
    "    # Scale the data if desired\n",
    "    if scaled == True:\n",
    "        X = X.apply(scale)\n",
    "    \n",
    "    return X, y"
   ]
  },
  {
   "cell_type": "code",
   "execution_count": 41,
   "metadata": {},
   "outputs": [],
   "source": [
    "# training data\n",
    "X, y = preprocessing(wine_train)                     \n",
    "\n",
    "# test data\n",
    "X_test, y_test = preprocessing(wine_test)"
   ]
  },
  {
   "cell_type": "markdown",
   "metadata": {},
   "source": [
    "### Logistic Regression"
   ]
  },
  {
   "cell_type": "code",
   "execution_count": 26,
   "metadata": {},
   "outputs": [
    {
     "data": {
      "image/png": "[encoded data removed]",
      "text/plain": [
       "<Figure size 480x400 with 1 Axes>"
      ]
     },
     "metadata": {
      "needs_background": "light"
     },
     "output_type": "display_data"
    },
    {
     "name": "stdout",
     "output_type": "stream",
     "text": [
      "-----------------------------------------------------------\n",
      "[[177  26  46  76]\n",
      " [ 19 130  39  14]\n",
      " [104 139 121  65]\n",
      " [ 10   3   4  27]]\n",
      "-----------------------------------------------------------\n",
      "              precision    recall  f1-score   support\n",
      "\n",
      "     Average       0.57      0.54      0.56       325\n",
      "   Excellent       0.44      0.64      0.52       202\n",
      "        Good       0.58      0.28      0.38       429\n",
      "        Poor       0.15      0.61      0.24        44\n",
      "\n",
      "    accuracy                           0.46      1000\n",
      "   macro avg       0.43      0.52      0.42      1000\n",
      "weighted avg       0.53      0.46      0.46      1000\n",
      "\n"
     ]
    }
   ],
   "source": [
    "Cs = np.linspace(0.001, 1, 20)\n",
    "res = np.zeros(20)\n",
    "i=0\n",
    "for C in Cs:\n",
    "    m = LogisticRegression(multi_class='multinomial', \n",
    "                           C=C, \n",
    "                           max_iter=10_000,\n",
    "                           class_weight='balanced'\n",
    "                          ).fit(X, y)\n",
    "    res[i] = m.score(X_test, y_test)\n",
    "    i+=1\n",
    "plt.plot(Cs, res)\n",
    "plt.xlabel('C')\n",
    "plt.ylabel('score')\n",
    "plt.show()\n",
    "\n",
    "m_log = LogisticRegression(multi_class='multinomial',  \n",
    "                           C=0.5, \n",
    "                           max_iter=10_000,\n",
    "                           class_weight='balanced'\n",
    "                          ).fit(X, y)\n",
    "print('-----------------------------------------------------------')\n",
    "print(confusion_matrix(y_test, m_log.predict(X_test)))\n",
    "print('-----------------------------------------------------------')\n",
    "print(classification_report(y_test, m_log.predict(X_test)))"
   ]
  },
  {
   "cell_type": "markdown",
   "metadata": {},
   "source": [
    "### Decision Tree Classfier"
   ]
  },
  {
   "cell_type": "code",
   "execution_count": null,
   "metadata": {},
   "outputs": [],
   "source": [
    "m_tree = GridSearchCV(\n",
    "     DecisionTreeClassifier(),\n",
    "     param_grid={'criterion': ['gini', 'entropy'], \n",
    "                 'splitter': ['best', 'random'],\n",
    "                 'max_depth': range(3, 15),\n",
    "                 'min_samples_split': range(2, 10),\n",
    "                 'min_samples_leaf': range(1, 10)},   \n",
    "    scoring='f1_weighted'\n",
    ").fit(X, y)\n",
    "\n",
    "print(m_tree.best_params_)\n",
    "print('-----------------------------------------------------------')\n",
    "print(confusion_matrix(y_test, m_tree.predict(X_test)))\n",
    "print('-----------------------------------------------------------')\n",
    "print(classification_report(y_test, m_tree.predict(X_test)))"
   ]
  },
  {
   "cell_type": "markdown",
   "metadata": {},
   "source": [
    "### Random Forest Classifier"
   ]
  },
  {
   "cell_type": "code",
   "execution_count": 21,
   "metadata": {},
   "outputs": [
    {
     "name": "stdout",
     "output_type": "stream",
     "text": [
      "0.646\n",
      "{'criterion': 'entropy', 'max_depth': 13, 'n_estimators': 200}\n",
      "-----------------------------------------------------------\n",
      "[[231   6  88   0]\n",
      " [ 10  84 108   0]\n",
      " [ 81  20 328   0]\n",
      " [ 22   0  19   3]]\n",
      "-----------------------------------------------------------\n",
      "              precision    recall  f1-score   support\n",
      "\n",
      "     Average       0.67      0.71      0.69       325\n",
      "   Excellent       0.76      0.42      0.54       202\n",
      "        Good       0.60      0.76      0.67       429\n",
      "        Poor       1.00      0.07      0.13        44\n",
      "\n",
      "    accuracy                           0.65      1000\n",
      "   macro avg       0.76      0.49      0.51      1000\n",
      "weighted avg       0.68      0.65      0.63      1000\n",
      "\n"
     ]
    }
   ],
   "source": [
    "m_forest = GridSearchCV(\n",
    "     RandomForestClassifier(),\n",
    "     param_grid={'n_estimators': range(50, 250, 50),\n",
    "                 'criterion': ['gini', 'entropy'],\n",
    "                 'max_depth': range(13, 18)}\n",
    ").fit(X, y)\n",
    "\n",
    "print(m_forest.score(X_test, y_test))\n",
    "print(m_forest.best_params_)\n",
    "print('-----------------------------------------------------------')\n",
    "print(confusion_matrix(y_test, m_forest.predict(X_test)))\n",
    "print('-----------------------------------------------------------')\n",
    "print(classification_report(y_test, m_forest.predict(X_test)))"
   ]
  },
  {
   "cell_type": "markdown",
   "metadata": {},
   "source": [
    "### K Neighbors"
   ]
  },
  {
   "cell_type": "code",
   "execution_count": null,
   "metadata": {},
   "outputs": [],
   "source": [
    "m_neigh = GridSearchCV(\n",
    "     KNeighborsClassifier(),\n",
    "     param_grid={'n_neighbors': range(10, 20),\n",
    "                 'leaf_size': range(20, 40, 5),\n",
    "                 'weights': ['uniform', 'distance'],\n",
    "                 'algorithm':['auto', 'ball_tree', 'kd_tree', 'brute']},\n",
    "    scoring='accuracy'\n",
    ").fit(X_scaled, y)\n",
    "\n",
    "print('-----------------------------------------------------------')\n",
    "print(confusion_matrix(y_test, m_neigh.predict(X_test_scaled)))\n",
    "print('-----------------------------------------------------------')\n",
    "print(classification_report(y_test, m_neigh.predict(X_test_scaled)))"
   ]
  }
 ],
 "metadata": {
  "kernelspec": {
   "display_name": "Python 3",
   "language": "python",
   "name": "python3"
  },
  "language_info": {
   "codemirror_mode": {
    "name": "ipython",
    "version": 3
   },
   "file_extension": ".py",
   "mimetype": "text/x-python",
   "name": "python",
   "nbconvert_exporter": "python",
   "pygments_lexer": "ipython3",
   "version": "3.7.3"
  }
 },
 "nbformat": 4,
 "nbformat_minor": 4
}
